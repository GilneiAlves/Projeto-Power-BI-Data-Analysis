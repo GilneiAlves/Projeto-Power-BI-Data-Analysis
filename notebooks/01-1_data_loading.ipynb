{
 "cells": [
  {
   "cell_type": "markdown",
   "metadata": {},
   "source": []
  },
  {
   "cell_type": "code",
   "execution_count": 1,
   "metadata": {},
   "outputs": [
    {
     "name": "stdout",
     "output_type": "stream",
     "text": [
      "Tabela stg_stg_olist_customers_dataset carregada com sucesso!\n",
      "Tabela stg_stg_olist_geolocation_dataset carregada com sucesso!\n",
      "Tabela stg_stg_olist_orders_dataset carregada com sucesso!\n",
      "Tabela stg_stg_olist_order_items_dataset carregada com sucesso!\n",
      "Tabela stg_stg_olist_order_payments_dataset carregada com sucesso!\n",
      "Tabela stg_stg_olist_order_reviews_dataset carregada com sucesso!\n",
      "Tabela stg_stg_olist_products_dataset carregada com sucesso!\n",
      "Tabela stg_stg_olist_sellers_dataset carregada com sucesso!\n",
      "Tabela stg_stg_product_category_name_translation carregada com sucesso!\n"
     ]
    }
   ],
   "source": [
    "import sqlite3\n",
    "import pandas as pd\n",
    "import os\n",
    "\n",
    "# Caminho para o banco de dados SQLite\n",
    "db_path = r\"C:\\GitHub\\Projeto-Power-BI-Data-Analysis\\data\\processed\\stg_data.db\"\n",
    "\n",
    "# Conecta ao banco de dados (ou cria um novo se não existir)\n",
    "conn = sqlite3.connect(db_path)\n",
    "cursor = conn.cursor()\n",
    "\n",
    "# Diretório com os arquivos CSV\n",
    "directory = r\"C:\\GitHub\\Projeto-Power-BI-Data-Analysis\\data\\raw\"\n",
    "\n",
    "# Lista os arquivos CSV no diretório\n",
    "csv_files = [f for f in os.listdir(directory) if f.endswith(\".csv\")]\n",
    "\n",
    "# Função para carregar arquivos CSV em uma tabela SQLite\n",
    "def load_csv_to_sqlite(file_path, table_name):\n",
    "    try:\n",
    "        # Carrega o arquivo CSV em um DataFrame\n",
    "        df = pd.read_csv(file_path)\n",
    "        \n",
    "        # Verifica se o DataFrame não está vazio antes de carregar\n",
    "        if df.empty:\n",
    "            print(f\"Atenção: O arquivo {file_path} está vazio e não será carregado.\")\n",
    "        else:\n",
    "            # Carrega os dados no banco de dados (tabela de staging)\n",
    "            df.to_sql(table_name, conn, if_exists='replace', index=False)\n",
    "            print(f\"Tabela {table_name} carregada com sucesso!\")\n",
    "    except Exception as e:\n",
    "        print(f\"Erro ao carregar {file_path} para a tabela {table_name}: {e}\")\n",
    "\n",
    "# Carrega todos os arquivos CSV em tabelas com prefixo 'stg_'\n",
    "for file in csv_files:\n",
    "    file_path = os.path.join(directory, file)\n",
    "    table_name = \"stg_\" + file.replace(\".csv\", \"\")  # Adiciona o prefixo 'stg_'\n",
    "    load_csv_to_sqlite(file_path, table_name)\n",
    "\n",
    "# Fechar a conexão\n",
    "conn.close()\n"
   ]
  },
  {
   "cell_type": "code",
   "execution_count": 2,
   "metadata": {},
   "outputs": [
    {
     "name": "stdout",
     "output_type": "stream",
     "text": [
      "['order_id', 'customer_id', 'order_status', 'order_purchase_timestamp', 'order_approved_at', 'order_delivered_carrier_date', 'order_delivered_customer_date', 'order_estimated_delivery_date']\n",
      "('e481f51cbdc54678b7cc49136f2d6af7', '9ef432eb6251297304e76186b10a928d', 'delivered', '2017-10-02 10:56:33', '2017-10-02 11:07:15', '2017-10-04 19:55:00', '2017-10-10 21:25:13', '2017-10-18 00:00:00')\n",
      "('53cdb2fc8bc7dce0b6741e2150273451', 'b0830fb4747a6c6d20dea0b8c802d7ef', 'delivered', '2018-07-24 20:41:37', '2018-07-26 03:24:27', '2018-07-26 14:31:00', '2018-08-07 15:27:45', '2018-08-13 00:00:00')\n",
      "('47770eb9100c2d0c44946d9cf07ec65d', '41ce2a54c0b03bf3443c3d931a367089', 'delivered', '2018-08-08 08:38:49', '2018-08-08 08:55:23', '2018-08-08 13:50:00', '2018-08-17 18:06:29', '2018-09-04 00:00:00')\n",
      "('949d5b44dbf5de918fe9c16f97b45f8a', 'f88197465ea7920adcdbec7375364d82', 'delivered', '2017-11-18 19:28:06', '2017-11-18 19:45:59', '2017-11-22 13:39:59', '2017-12-02 00:28:42', '2017-12-15 00:00:00')\n",
      "('ad21c59c0840e6cb83a9ceb5573f8159', '8ab97904e6daea8866dbdbc4fb7aad2c', 'delivered', '2018-02-13 21:18:39', '2018-02-13 22:20:29', '2018-02-14 19:46:34', '2018-02-16 18:17:02', '2018-02-26 00:00:00')\n"
     ]
    }
   ],
   "source": [
    "import sqlite3\n",
    "\n",
    "# Reabrindo a conexão para consultar o banco\n",
    "conn = sqlite3.connect(db_path)\n",
    "cursor = conn.cursor()\n",
    "\n",
    "# Executando a consulta\n",
    "cursor.execute(\"SELECT * FROM stg_stg_olist_orders_dataset LIMIT 5\")\n",
    "\n",
    "# Obtendo os nomes das colunas\n",
    "columns = [description[0] for description in cursor.description]\n",
    "\n",
    "# Obtendo os dados\n",
    "rows = cursor.fetchall()\n",
    "\n",
    "# Exibindo os cabeçalhos e os dados\n",
    "print(columns)\n",
    "for row in rows:\n",
    "    print(row)\n",
    "\n",
    "# Fechar a conexão\n",
    "conn.close()\n"
   ]
  }
 ],
 "metadata": {
  "kernelspec": {
   "display_name": ".venv",
   "language": "python",
   "name": "python3"
  },
  "language_info": {
   "codemirror_mode": {
    "name": "ipython",
    "version": 3
   },
   "file_extension": ".py",
   "mimetype": "text/x-python",
   "name": "python",
   "nbconvert_exporter": "python",
   "pygments_lexer": "ipython3",
   "version": "3.11.9"
  }
 },
 "nbformat": 4,
 "nbformat_minor": 2
}
