{
 "cells": [
  {
   "cell_type": "markdown",
   "metadata": {},
   "source": [
    "\n",
    "Este código utiliza a API do Kaggle para baixar o dataset **\"Olist Brazilian E-Commerce\"** diretamente para o diretório especificado no computador. O dataset é extraído e salvo no caminho definido.\n"
   ]
  },
  {
   "cell_type": "code",
   "execution_count": null,
   "metadata": {},
   "outputs": [
    {
     "name": "stdout",
     "output_type": "stream",
     "text": [
      "Dataset URL: https://www.kaggle.com/datasets/olistbr/brazilian-ecommerce\n",
      "Download concluído! Arquivos salvos em: C:\\GitHub\\Projeto Power bi\\data\\Kaggle\n"
     ]
    }
   ],
   "source": [
    "import kaggle\n",
    "import os\n",
    "\n",
    "# Nome do dataset extarido do Kaggle\n",
    "dataset_name = \"olistbr/brazilian-ecommerce\"\n",
    "\n",
    "# Define o diretório onde salvar\n",
    "save_path = r\"C:\\GitHub\\Projeto Power bi\\data\\raw\"\n",
    "\n",
    "# Baixa o dataset, usando a api\n",
    "kaggle.api.dataset_download_files(dataset_name, path=save_path, unzip=True)\n",
    "\n",
    "print(\"Download concluído! Arquivos salvos em:\", save_path)\n"
   ]
  },
  {
   "cell_type": "code",
   "execution_count": null,
   "metadata": {},
   "outputs": [
    {
     "name": "stdout",
     "output_type": "stream",
     "text": [
      "Arquivos no diretório: C:\\GitHub\\Projeto Power bi\\data\\Kaggle\n",
      "olist_customers_dataset.csv\n",
      "olist_geolocation_dataset.csv\n",
      "olist_orders_dataset.csv\n",
      "olist_order_items_dataset.csv\n",
      "olist_order_payments_dataset.csv\n",
      "olist_order_reviews_dataset.csv\n",
      "olist_products_dataset.csv\n",
      "olist_sellers_dataset.csv\n",
      "product_category_name_translation.csv\n"
     ]
    }
   ],
   "source": [
    "# Lista os arquivos no diretório\n",
    "files = os.listdir(save_path)\n",
    "\n",
    "# Exibe os arquivos\n",
    "print(\"Arquivos no diretório:\", save_path)\n",
    "for file in files:\n",
    "    print(file)"
   ]
  }
 ],
 "metadata": {
  "kernelspec": {
   "display_name": ".venv",
   "language": "python",
   "name": "python3"
  },
  "language_info": {
   "codemirror_mode": {
    "name": "ipython",
    "version": 3
   },
   "file_extension": ".py",
   "mimetype": "text/x-python",
   "name": "python",
   "nbconvert_exporter": "python",
   "pygments_lexer": "ipython3",
   "version": "3.11.9"
  }
 },
 "nbformat": 4,
 "nbformat_minor": 2
}
