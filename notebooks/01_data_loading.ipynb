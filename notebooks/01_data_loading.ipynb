{
 "cells": [
  {
   "cell_type": "markdown",
   "metadata": {},
   "source": [
    "\n",
    "Este código utiliza a API do Kaggle para baixar o dataset **\"Olist Brazilian E-Commerce\"** diretamente para o diretório especificado no computador. O dataset é extraído e salvo no caminho definido.\n"
   ]
  },
  {
   "cell_type": "code",
   "execution_count": null,
   "metadata": {},
   "outputs": [
    {
     "name": "stdout",
     "output_type": "stream",
     "text": [
      "Dataset URL: https://www.kaggle.com/datasets/olistbr/brazilian-ecommerce\n",
      "Download concluído! Arquivos salvos em: C:\\GitHub\\Projeto Power bi\\data\\Kaggle\n"
     ]
    }
   ],
   "source": [
    "import kaggle\n",
    "import os\n",
    "\n",
    "# Nome do dataset extarido do Kaggle\n",
    "dataset_name = \"olistbr/brazilian-ecommerce\"\n",
    "\n",
    "# Define o diretório onde salvar\n",
    "save_path = r\"C:\\GitHub\\Projeto-Power-BI-Data-Analysis\\data\\raw\"\n",
    "\n",
    "# Baixa o dataset, usando a api\n",
    "kaggle.api.dataset_download_files(dataset_name, path=save_path, unzip=True)\n",
    "\n",
    "print(\"Download concluído! Arquivos salvos em:\", save_path)\n"
   ]
  },
  {
   "cell_type": "code",
   "execution_count": null,
   "metadata": {},
   "outputs": [
    {
     "name": "stdout",
     "output_type": "stream",
     "text": [
      "Arquivos no diretório: C:\\GitHub\\Projeto Power bi\\data\\Kaggle\n",
      "olist_customers_dataset.csv\n",
      "olist_geolocation_dataset.csv\n",
      "olist_orders_dataset.csv\n",
      "olist_order_items_dataset.csv\n",
      "olist_order_payments_dataset.csv\n",
      "olist_order_reviews_dataset.csv\n",
      "olist_products_dataset.csv\n",
      "olist_sellers_dataset.csv\n",
      "product_category_name_translation.csv\n"
     ]
    }
   ],
   "source": [
    "# Lista os arquivos no diretório\n",
    "files = os.listdir(save_path)\n",
    "\n",
    "# Exibe os arquivos\n",
    "print(\"Arquivos no diretório:\", save_path)\n",
    "for file in files:\n",
    "    print(file)"
   ]
  },
  {
   "cell_type": "code",
   "execution_count": 10,
   "metadata": {},
   "outputs": [
    {
     "name": "stdout",
     "output_type": "stream",
     "text": [
      "Renomeado: olist_customers_dataset.csv -> stg_olist_customers_dataset.csv\n",
      "Renomeado: olist_geolocation_dataset.csv -> stg_olist_geolocation_dataset.csv\n",
      "Renomeado: olist_orders_dataset.csv -> stg_olist_orders_dataset.csv\n",
      "Renomeado: olist_order_items_dataset.csv -> stg_olist_order_items_dataset.csv\n",
      "Renomeado: olist_order_payments_dataset.csv -> stg_olist_order_payments_dataset.csv\n",
      "Renomeado: olist_order_reviews_dataset.csv -> stg_olist_order_reviews_dataset.csv\n",
      "Renomeado: olist_products_dataset.csv -> stg_olist_products_dataset.csv\n",
      "Renomeado: olist_sellers_dataset.csv -> stg_olist_sellers_dataset.csv\n",
      "Renomeado: product_category_name_translation.csv -> stg_product_category_name_translation.csv\n"
     ]
    }
   ],
   "source": [
    "import os\n",
    "\n",
    "# Diretório onde os arquivos estão localizados\n",
    "directory = r\"C:\\GitHub\\Projeto-Power-BI-Data-Analysis\\data\\raw\"\n",
    "\n",
    "# Listar todos os arquivos no diretório\n",
    "for filename in os.listdir(directory):\n",
    "    # Verificar se é um arquivo CSV\n",
    "    if filename.endswith(\".csv\"):\n",
    "        # Criar o novo nome com o prefixo \"stg_\"\n",
    "        new_name = \"stg_\" + filename\n",
    "        \n",
    "        # Obter o caminho completo dos arquivos\n",
    "        old_file = os.path.join(directory, filename)\n",
    "        new_file = os.path.join(directory, new_name)\n",
    "        \n",
    "        # Renomear o arquivo\n",
    "        os.rename(old_file, new_file)\n",
    "        print(f\"Renomeado: {filename} -> {new_name}\")\n"
   ]
  }
 ],
 "metadata": {
  "kernelspec": {
   "display_name": ".venv",
   "language": "python",
   "name": "python3"
  },
  "language_info": {
   "codemirror_mode": {
    "name": "ipython",
    "version": 3
   },
   "file_extension": ".py",
   "mimetype": "text/x-python",
   "name": "python",
   "nbconvert_exporter": "python",
   "pygments_lexer": "ipython3",
   "version": "3.11.9"
  }
 },
 "nbformat": 4,
 "nbformat_minor": 2
}
