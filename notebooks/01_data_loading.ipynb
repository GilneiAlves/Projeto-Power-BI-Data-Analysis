{
 "cells": [
  {
   "cell_type": "markdown",
   "metadata": {},
   "source": [
    "\n",
    "Este código utiliza a API do Kaggle para baixar o dataset **\"Olist Brazilian E-Commerce\"** diretamente para o diretório especificado no computador. O dataset é extraído e salvo no caminho raw.\n"
   ]
  },
  {
   "cell_type": "code",
   "execution_count": 1,
   "metadata": {},
   "outputs": [
    {
     "name": "stdout",
     "output_type": "stream",
     "text": [
      "Dataset URL: https://www.kaggle.com/datasets/olistbr/brazilian-ecommerce\n",
      "Download concluído! Arquivos salvos em: C:\\GitHub\\Projeto-Power-BI-Data-Analysis\\data\\raw\n"
     ]
    }
   ],
   "source": [
    "# Carregas as bibliotecas necessárias\n",
    "import kaggle\n",
    "import os\n",
    "import pandas as pd\n",
    "import sqlite3\n",
    "\n",
    "# Nome do dataset extarido do Kaggle\n",
    "dataset_name = \"olistbr/brazilian-ecommerce\"\n",
    "\n",
    "# Define o diretório onde salvar\n",
    "save_path = r\"C:\\GitHub\\Projeto-Power-BI-Data-Analysis\\data\\raw\"\n",
    "\n",
    "# Baixa o dataset, usando a api\n",
    "kaggle.api.dataset_download_files(dataset_name, path=save_path, unzip=True)\n",
    "\n",
    "print(\"Download concluído! Arquivos salvos em:\", save_path)\n"
   ]
  },
  {
   "cell_type": "markdown",
   "metadata": {},
   "source": [
    "#### Lista os arquivos baixados"
   ]
  },
  {
   "cell_type": "code",
   "execution_count": 2,
   "metadata": {},
   "outputs": [
    {
     "name": "stdout",
     "output_type": "stream",
     "text": [
      "Arquivos no diretório: C:\\GitHub\\Projeto-Power-BI-Data-Analysis\\data\\raw\n",
      "olist_customers_dataset.csv\n",
      "olist_geolocation_dataset.csv\n",
      "olist_orders_dataset.csv\n",
      "olist_order_items_dataset.csv\n",
      "olist_order_payments_dataset.csv\n",
      "olist_order_reviews_dataset.csv\n",
      "olist_products_dataset.csv\n",
      "olist_sellers_dataset.csv\n",
      "product_category_name_translation.csv\n"
     ]
    }
   ],
   "source": [
    "# Lista os arquivos no diretório\n",
    "files = os.listdir(save_path)\n",
    "\n",
    "# Exibe os arquivos\n",
    "print(\"Arquivos no diretório:\", save_path)\n",
    "for file in files:\n",
    "    print(file)"
   ]
  },
  {
   "cell_type": "markdown",
   "metadata": {},
   "source": [
    "### Renomeando os arquivos, assim deixamos o padrão Staging Area"
   ]
  },
  {
   "cell_type": "code",
   "execution_count": 3,
   "metadata": {},
   "outputs": [
    {
     "name": "stdout",
     "output_type": "stream",
     "text": [
      "Renomeado: olist_customers_dataset.csv ---> stg_olist_customers_dataset.csv\n",
      "Renomeado: olist_geolocation_dataset.csv ---> stg_olist_geolocation_dataset.csv\n",
      "Renomeado: olist_orders_dataset.csv ---> stg_olist_orders_dataset.csv\n",
      "Renomeado: olist_order_items_dataset.csv ---> stg_olist_order_items_dataset.csv\n",
      "Renomeado: olist_order_payments_dataset.csv ---> stg_olist_order_payments_dataset.csv\n",
      "Renomeado: olist_order_reviews_dataset.csv ---> stg_olist_order_reviews_dataset.csv\n",
      "Renomeado: olist_products_dataset.csv ---> stg_olist_products_dataset.csv\n",
      "Renomeado: olist_sellers_dataset.csv ---> stg_olist_sellers_dataset.csv\n",
      "Renomeado: product_category_name_translation.csv ---> stg_product_category_name_translation.csv\n"
     ]
    }
   ],
   "source": [
    "# Diretório onde os arquivos estão localizados\n",
    "directory = r\"C:\\GitHub\\Projeto-Power-BI-Data-Analysis\\data\\raw\"\n",
    "\n",
    "# Listar todos os arquivos no diretório\n",
    "for filename in os.listdir(directory):\n",
    "    # Verificar se é um arquivo CSV\n",
    "    if filename.endswith(\".csv\"):\n",
    "        # Criar o novo nome com o prefixo \"stg_\"\n",
    "        new_name = \"stg_\" + filename\n",
    "        \n",
    "        # Obter o caminho completo dos arquivos\n",
    "        old_file = os.path.join(directory, filename)\n",
    "        new_file = os.path.join(directory, new_name)\n",
    "        \n",
    "        # Renomear o arquivo\n",
    "        os.rename(old_file, new_file)\n",
    "        print(f\"Renomeado: {filename} ---> {new_name}\")\n"
   ]
  },
  {
   "cell_type": "markdown",
   "metadata": {},
   "source": [
    "Carrega os dados da Staging Area para um banco de dados do sqlite3"
   ]
  },
  {
   "cell_type": "code",
   "execution_count": 4,
   "metadata": {},
   "outputs": [
    {
     "name": "stdout",
     "output_type": "stream",
     "text": [
      "Tabela stg_stg_olist_customers_dataset carregada com sucesso!\n",
      "Tabela stg_stg_olist_geolocation_dataset carregada com sucesso!\n",
      "Tabela stg_stg_olist_orders_dataset carregada com sucesso!\n",
      "Tabela stg_stg_olist_order_items_dataset carregada com sucesso!\n",
      "Tabela stg_stg_olist_order_payments_dataset carregada com sucesso!\n",
      "Tabela stg_stg_olist_order_reviews_dataset carregada com sucesso!\n",
      "Tabela stg_stg_olist_products_dataset carregada com sucesso!\n",
      "Tabela stg_stg_olist_sellers_dataset carregada com sucesso!\n",
      "Tabela stg_stg_product_category_name_translation carregada com sucesso!\n"
     ]
    }
   ],
   "source": [
    "# Caminho para o banco de dados SQLite\n",
    "db_path = r\"C:\\GitHub\\Projeto-Power-BI-Data-Analysis\\data\\processed\\stg_data.db\"\n",
    "\n",
    "# Conecta ao banco de dados (ou cria um novo se não existir)\n",
    "conn = sqlite3.connect(db_path)\n",
    "cursor = conn.cursor()\n",
    "\n",
    "# Diretório com os arquivos CSV\n",
    "directory = r\"C:\\GitHub\\Projeto-Power-BI-Data-Analysis\\data\\raw\"\n",
    "\n",
    "# Lista os arquivos CSV no diretório\n",
    "csv_files = [f for f in os.listdir(directory) if f.endswith(\".csv\")]\n",
    "\n",
    "# Função para carregar arquivos CSV em uma tabela SQLite\n",
    "def load_csv_to_sqlite(file_path, table_name):\n",
    "    try:\n",
    "        # Carrega o arquivo CSV em um DataFrame\n",
    "        df = pd.read_csv(file_path)\n",
    "        \n",
    "        # Verifica se o DataFrame não está vazio antes de carregar\n",
    "        if df.empty:\n",
    "            print(f\"Atenção: O arquivo {file_path} está vazio e não será carregado.\")\n",
    "        else:\n",
    "            # Carrega os dados no banco de dados (tabela de staging)\n",
    "            df.to_sql(table_name, conn, if_exists='replace', index=False)\n",
    "            print(f\"Tabela {table_name} carregada com sucesso!\")\n",
    "    except Exception as e:\n",
    "        print(f\"Erro ao carregar {file_path} para a tabela {table_name}: {e}\")\n",
    "\n",
    "# Carrega todos os arquivos CSV em tabelas com prefixo 'stg_'\n",
    "for file in csv_files:\n",
    "    file_path = os.path.join(directory, file)\n",
    "    table_name = \"stg_\" + file.replace(\".csv\", \"\")  # Adiciona o prefixo 'stg_'\n",
    "    load_csv_to_sqlite(file_path, table_name)\n",
    "\n",
    "# Fechar a conexão\n",
    "conn.close()\n"
   ]
  },
  {
   "cell_type": "markdown",
   "metadata": {},
   "source": [
    "***Obtém todas as tabelas do banco de dados stg*** \\\n",
    "***Para cada tabela, exibe as colunas e as primeiras 5 linhas*** \\\n",
    "***Garante que todas as tabelas foram carregadas corretamente***\n"
   ]
  },
  {
   "cell_type": "code",
   "execution_count": null,
   "metadata": {},
   "outputs": [
    {
     "name": "stdout",
     "output_type": "stream",
     "text": [
      "\n",
      " Tabela: stg_stg_olist_customers_dataset \n",
      "\n",
      "| customer_id                      | customer_unique_id               |   customer_zip_code_prefix | customer_city         | customer_state   |\n",
      "|:---------------------------------|:---------------------------------|---------------------------:|:----------------------|:-----------------|\n",
      "| 06b8999e2fba1a1fbc88172c00ba8bc7 | 861eff4711a542e4b93843c6dd7febb0 |                      14409 | franca                | SP               |\n",
      "| 18955e83d337fd6b2def6b18a428ac77 | 290c77bc529b7ac935b93aa66c333dc3 |                       9790 | sao bernardo do campo | SP               |\n",
      "| 4e7b3e00288586ebd08712fdd0374a03 | 060e732b5b29e8181a18229c7b0b2b5e |                       1151 | sao paulo             | SP               |\n",
      "| b2b6027bc5c5109e529d4dc6358b12c3 | 259dac757896d24d7702b9acbbff3f3c |                       8775 | mogi das cruzes       | SP               |\n",
      "| 4f2d8ab171c80ec8364f7c12e35b23ad | 345ecd01c38d18a9036ed96c73b8d066 |                      13056 | campinas              | SP               |\n",
      "\n",
      " Tabela: stg_stg_olist_geolocation_dataset \n",
      "\n",
      "|   geolocation_zip_code_prefix |   geolocation_lat |   geolocation_lng | geolocation_city   | geolocation_state   |\n",
      "|------------------------------:|------------------:|------------------:|:-------------------|:--------------------|\n",
      "|                          1037 |          -23.5456 |          -46.6393 | sao paulo          | SP                  |\n",
      "|                          1046 |          -23.5461 |          -46.6448 | sao paulo          | SP                  |\n",
      "|                          1046 |          -23.5461 |          -46.643  | sao paulo          | SP                  |\n",
      "|                          1041 |          -23.5444 |          -46.6395 | sao paulo          | SP                  |\n",
      "|                          1035 |          -23.5416 |          -46.6416 | sao paulo          | SP                  |\n",
      "\n",
      " Tabela: stg_stg_olist_orders_dataset \n",
      "\n",
      "| order_id                         | customer_id                      | order_status   | order_purchase_timestamp   | order_approved_at   | order_delivered_carrier_date   | order_delivered_customer_date   | order_estimated_delivery_date   |\n",
      "|:---------------------------------|:---------------------------------|:---------------|:---------------------------|:--------------------|:-------------------------------|:--------------------------------|:--------------------------------|\n",
      "| e481f51cbdc54678b7cc49136f2d6af7 | 9ef432eb6251297304e76186b10a928d | delivered      | 2017-10-02 10:56:33        | 2017-10-02 11:07:15 | 2017-10-04 19:55:00            | 2017-10-10 21:25:13             | 2017-10-18 00:00:00             |\n",
      "| 53cdb2fc8bc7dce0b6741e2150273451 | b0830fb4747a6c6d20dea0b8c802d7ef | delivered      | 2018-07-24 20:41:37        | 2018-07-26 03:24:27 | 2018-07-26 14:31:00            | 2018-08-07 15:27:45             | 2018-08-13 00:00:00             |\n",
      "| 47770eb9100c2d0c44946d9cf07ec65d | 41ce2a54c0b03bf3443c3d931a367089 | delivered      | 2018-08-08 08:38:49        | 2018-08-08 08:55:23 | 2018-08-08 13:50:00            | 2018-08-17 18:06:29             | 2018-09-04 00:00:00             |\n",
      "| 949d5b44dbf5de918fe9c16f97b45f8a | f88197465ea7920adcdbec7375364d82 | delivered      | 2017-11-18 19:28:06        | 2017-11-18 19:45:59 | 2017-11-22 13:39:59            | 2017-12-02 00:28:42             | 2017-12-15 00:00:00             |\n",
      "| ad21c59c0840e6cb83a9ceb5573f8159 | 8ab97904e6daea8866dbdbc4fb7aad2c | delivered      | 2018-02-13 21:18:39        | 2018-02-13 22:20:29 | 2018-02-14 19:46:34            | 2018-02-16 18:17:02             | 2018-02-26 00:00:00             |\n",
      "\n",
      " Tabela: stg_stg_olist_order_items_dataset \n",
      "\n",
      "| order_id                         |   order_item_id | product_id                       | seller_id                        | shipping_limit_date   |   price |   freight_value |\n",
      "|:---------------------------------|----------------:|:---------------------------------|:---------------------------------|:----------------------|--------:|----------------:|\n",
      "| 00010242fe8c5a6d1ba2dd792cb16214 |               1 | 4244733e06e7ecb4970a6e2683c13e61 | 48436dade18ac8b2bce089ec2a041202 | 2017-09-19 09:45:35   |   58.9  |           13.29 |\n",
      "| 00018f77f2f0320c557190d7a144bdd3 |               1 | e5f2d52b802189ee658865ca93d83a8f | dd7ddc04e1b6c2c614352b383efe2d36 | 2017-05-03 11:05:13   |  239.9  |           19.93 |\n",
      "| 000229ec398224ef6ca0657da4fc703e |               1 | c777355d18b72b67abbeef9df44fd0fd | 5b51032eddd242adc84c38acab88f23d | 2018-01-18 14:48:30   |  199    |           17.87 |\n",
      "| 00024acbcdf0a6daa1e931b038114c75 |               1 | 7634da152a4610f1595efa32f14722fc | 9d7a1d34a5052409006425275ba1c2b4 | 2018-08-15 10:10:18   |   12.99 |           12.79 |\n",
      "| 00042b26cf59d7ce69dfabb4e55b4fd9 |               1 | ac6c3623068f30de03045865e4e10089 | df560393f3a51e74553ab94004ba5c87 | 2017-02-13 13:57:51   |  199.9  |           18.14 |\n",
      "\n",
      " Tabela: stg_stg_olist_order_payments_dataset \n",
      "\n",
      "| order_id                         |   payment_sequential | payment_type   |   payment_installments |   payment_value |\n",
      "|:---------------------------------|---------------------:|:---------------|-----------------------:|----------------:|\n",
      "| b81ef226f3fe1789b1e8b2acac839d17 |                    1 | credit_card    |                      8 |           99.33 |\n",
      "| a9810da82917af2d9aefd1278f1dcfa0 |                    1 | credit_card    |                      1 |           24.39 |\n",
      "| 25e8ea4e93396b6fa0d3dd708e76c1bd |                    1 | credit_card    |                      1 |           65.71 |\n",
      "| ba78997921bbcdc1373bb41e913ab953 |                    1 | credit_card    |                      8 |          107.78 |\n",
      "| 42fdf880ba16b47b59251dd489d4441a |                    1 | credit_card    |                      2 |          128.45 |\n",
      "\n",
      " Tabela: stg_stg_olist_order_reviews_dataset \n",
      "\n",
      "| review_id                        | order_id                         |   review_score | review_comment_title   | review_comment_message                                                                               | review_creation_date   | review_answer_timestamp   |\n",
      "|:---------------------------------|:---------------------------------|---------------:|:-----------------------|:-----------------------------------------------------------------------------------------------------|:-----------------------|:--------------------------|\n",
      "| 7bc2406110b926393aa56f80a40eba40 | 73fc7af87114b39712e6da79b0a377eb |              4 |                        |                                                                                                      | 2018-01-18 00:00:00    | 2018-01-18 21:46:59       |\n",
      "| 80e641a11e56f04c1ad469d5645fdfde | a548910a1c6147796b98fdf73dbeba33 |              5 |                        |                                                                                                      | 2018-03-10 00:00:00    | 2018-03-11 03:05:13       |\n",
      "| 228ce5500dc1d8e020d8d1322874b6f0 | f9e4b658b201a9f2ecdecbb34bed034b |              5 |                        |                                                                                                      | 2018-02-17 00:00:00    | 2018-02-18 14:36:24       |\n",
      "| e64fb393e7b32834bb789ff8bb30750e | 658677c97b385a9be170737859d3511b |              5 |                        | Recebi bem antes do prazo estipulado.                                                                | 2017-04-21 00:00:00    | 2017-04-21 22:02:06       |\n",
      "| f7c4243c7fe1938f181bec41a392bdeb | 8e6bfb81e283fa7e4f11123a3fb894f1 |              5 |                        | Parabéns lojas lannister adorei comprar pela Internet seguro e prático Parabéns a todos feliz Páscoa | 2018-03-01 00:00:00    | 2018-03-02 10:26:53       |\n",
      "\n",
      " Tabela: stg_stg_olist_products_dataset \n",
      "\n",
      "| product_id                       | product_category_name   |   product_name_lenght |   product_description_lenght |   product_photos_qty |   product_weight_g |   product_length_cm |   product_height_cm |   product_width_cm |\n",
      "|:---------------------------------|:------------------------|----------------------:|-----------------------------:|---------------------:|-------------------:|--------------------:|--------------------:|-------------------:|\n",
      "| 1e9e8ef04dbcff4541ed26657ea517e5 | perfumaria              |                    40 |                          287 |                    1 |                225 |                  16 |                  10 |                 14 |\n",
      "| 3aa071139cb16b67ca9e5dea641aaa2f | artes                   |                    44 |                          276 |                    1 |               1000 |                  30 |                  18 |                 20 |\n",
      "| 96bd76ec8810374ed1b65e291975717f | esporte_lazer           |                    46 |                          250 |                    1 |                154 |                  18 |                   9 |                 15 |\n",
      "| cef67bcfe19066a932b7673e239eb23d | bebes                   |                    27 |                          261 |                    1 |                371 |                  26 |                   4 |                 26 |\n",
      "| 9dc1a7de274444849c219cff195d0b71 | utilidades_domesticas   |                    37 |                          402 |                    4 |                625 |                  20 |                  17 |                 13 |\n",
      "\n",
      " Tabela: stg_stg_olist_sellers_dataset \n",
      "\n",
      "| seller_id                        |   seller_zip_code_prefix | seller_city       | seller_state   |\n",
      "|:---------------------------------|-------------------------:|:------------------|:---------------|\n",
      "| 3442f8959a84dea7ee197c632cb2df15 |                    13023 | campinas          | SP             |\n",
      "| d1b65fc7debc3361ea86b5f14c68d2e2 |                    13844 | mogi guacu        | SP             |\n",
      "| ce3ad9de960102d0677a81f5d0bb7b2d |                    20031 | rio de janeiro    | RJ             |\n",
      "| c0f3eea2e14555b6faeea3dd58c1b1c3 |                     4195 | sao paulo         | SP             |\n",
      "| 51a04a8a6bdcb23deccc82b0b80742cf |                    12914 | braganca paulista | SP             |\n",
      "\n",
      " Tabela: stg_stg_product_category_name_translation \n",
      "\n",
      "| product_category_name   | product_category_name_english   |\n",
      "|:------------------------|:--------------------------------|\n",
      "| beleza_saude            | health_beauty                   |\n",
      "| informatica_acessorios  | computers_accessories           |\n",
      "| automotivo              | auto                            |\n",
      "| cama_mesa_banho         | bed_bath_table                  |\n",
      "| moveis_decoracao        | furniture_decor                 |\n"
     ]
    }
   ],
   "source": [
    "import sqlite3\n",
    "import pandas as pd\n",
    "\n",
    "# Caminho do banco de dados\n",
    "db_path = r\"C:\\GitHub\\Projeto-Power-BI-Data-Analysis\\data\\processed\\stg_data.db\"\n",
    "\n",
    "# Reabrindo a conexão para consultar o banco\n",
    "conn = sqlite3.connect(db_path)\n",
    "cursor = conn.cursor()\n",
    "\n",
    "# Obtendo a lista de tabelas no banco de dados\n",
    "cursor.execute(\"SELECT name FROM sqlite_master WHERE type='table';\")\n",
    "tables = [table[0] for table in cursor.fetchall()]\n",
    "\n",
    "# Percorrendo todas as tabelas e exibindo algumas linhas de cada uma\n",
    "for table in tables:\n",
    "    print(f\"\\n Tabela: {table} \\n\")\n",
    "\n",
    "    # Lendo os dados da tabela usando pandas\n",
    "    df = pd.read_sql_query(f\"SELECT * FROM {table} LIMIT 5\", conn)\n",
    "\n",
    "    # Exibindo o dataframe como tabela formatada\n",
    "    print(df.to_markdown(index=False))  # Usa o tabulate (to_markdown) para formatar a saída dos dados\n",
    "\n",
    "# Fechando a conexão\n",
    "conn.close()\n"
   ]
  }
 ],
 "metadata": {
  "kernelspec": {
   "display_name": ".venv",
   "language": "python",
   "name": "python3"
  },
  "language_info": {
   "codemirror_mode": {
    "name": "ipython",
    "version": 3
   },
   "file_extension": ".py",
   "mimetype": "text/x-python",
   "name": "python",
   "nbconvert_exporter": "python",
   "pygments_lexer": "ipython3",
   "version": "3.11.9"
  }
 },
 "nbformat": 4,
 "nbformat_minor": 2
}
