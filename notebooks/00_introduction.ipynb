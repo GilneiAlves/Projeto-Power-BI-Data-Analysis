{
 "cells": [
  {
   "cell_type": "markdown",
   "metadata": {},
   "source": [
    "# Projeto-Power-BI-Data-Analysis\n",
    "```\n",
    "│\n",
    "├── data/                            # Pasta para armazenar dados brutos\n",
    "│   ├── raw/                         # Arquivos originais do Kaggle (sem alterações, formato .csv)\n",
    "│   │   ├── olist_customers_dataset.csv            # Informações sobre os clientes e sua localização\n",
    "│   │   ├── olist_geolocation_dataset.csv          # Informações de códigos postais e suas coordenadas lat/lng\n",
    "│   │   ├── olist_orders_dataset.csv               # Informações sobre os pedidos realizados\n",
    "│   │   ├── olist_order_items_dataset.csv          # Informações sobre os itens comprados em cada pedido\n",
    "│   │   ├── olist_order_payments_dataset.csv       # Informações sobre as opções de pagamento\n",
    "│   │   ├── olist_order_reviews_dataset.csv        # Avaliações dos clientes sobre os produtos comprados\n",
    "│   │   ├── olist_products_dataset.csv             # Informações sobre os produtos vendidos\n",
    "│   │   ├── olist_sellers_dataset.csv              # Informações sobre os vendedores\n",
    "│   │   └── product_category_name_translation.csv  # Tradução da categoria do produto para o inglês\n",
    "│   │\n",
    "│   └── processed/                                 # Dados processados e preparados para análise\n",
    "│       ├── stg_data.db                            # Dados brutos gravados no banco de dados\n",
    "│       └── dw_data.db                             # Dados limpos e transformados no banco de dados\n",
    "│\n",
    "├── notebooks/                       # Notebooks Jupyter para a análise exploratória de dados (EDA)\n",
    "│   ├── 00_introduction.ipynb         # Introdução ao projeto e organização dos notebooks\n",
    "│   ├── 01_data_loading.ipynb        # Carregamento dos dados\n",
    "│   ├── 02_data_cleaning.ipynb       # Limpeza e pré-processamento dos dados\n",
    "│   ├── 03_data_analysis.ipynb       # Análise exploratória dos dados\n",
    "│   ├── 04_visualization.ipynb       # Visualização e criação de gráficos\n",
    "│   └── analysis_summary.md          # Resumo das descobertas e insights\n",
    "│\n",
    "├── reportPowerBI/                   # Relatórios e outputs gerados no Power BI\n",
    "│   └── Vendas.pbip                  # Relatório e gráficos do Power BI\n",
    "│\n",
    "├── src/                             # Scripts auxiliares e funções reutilizáveis\n",
    "│   ├── data_preprocessing.py        # Funções para limpeza e transformação dos dados\n",
    "│   ├── data_analysis.py             # Funções para análise de dados e cálculo de métricas\n",
    "│   └── visualization.py             # Funções para visualização de dados\n",
    "│\n",
    "├── requirements.txt                 # Dependências do projeto\n",
    "├── .gitignore                       # Arquivos e pastas a serem ignorados pelo Git\n",
    "└── README.md                        # Documentação do projeto (instruções, objetivos, etc.)\n",
    "```"
   ]
  },
  {
   "cell_type": "code",
   "execution_count": null,
   "metadata": {},
   "outputs": [],
   "source": []
  },
  {
   "cell_type": "markdown",
   "metadata": {},
   "source": [
    "```\n",
    "data_preprocessing.py → Limpeza e preparação de dados.\n",
    "data_analysis.py → Estatísticas e insights sobre os dados.\n",
    "visualization.py → Funções para visualização de dados.\n",
    "```"
   ]
  }
 ],
 "metadata": {
  "kernelspec": {
   "display_name": ".venv",
   "language": "python",
   "name": "python3"
  },
  "language_info": {
   "name": "python",
   "version": "3.11.9"
  }
 },
 "nbformat": 4,
 "nbformat_minor": 2
}
